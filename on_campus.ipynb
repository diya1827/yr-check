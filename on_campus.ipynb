{
 "cells": [
  {
   "cell_type": "code",
   "execution_count": 1,
   "id": "8da224ba-9c9f-4186-a604-c96092e2c939",
   "metadata": {
    "id": "8da224ba-9c9f-4186-a604-c96092e2c939"
   },
   "outputs": [],
   "source": [
    "import pandas as pb"
   ]
  },
  {
   "cell_type": "code",
   "execution_count": 2,
   "id": "4da1df90-c4f9-4102-a428-83fa72711669",
   "metadata": {
    "id": "4da1df90-c4f9-4102-a428-83fa72711669"
   },
   "outputs": [],
   "source": [
    "import numpy as np"
   ]
  },
  {
   "cell_type": "code",
   "execution_count": 3,
   "id": "a5d52cbb-fe0c-490a-bdd3-965cc5a85a47",
   "metadata": {
    "id": "a5d52cbb-fe0c-490a-bdd3-965cc5a85a47"
   },
   "outputs": [],
   "source": [
    "import re"
   ]
  },
  {
   "cell_type": "code",
   "execution_count": 4,
   "id": "458d4c56-8058-48f4-b7e4-7a35d6a597b8",
   "metadata": {
    "id": "458d4c56-8058-48f4-b7e4-7a35d6a597b8"
   },
   "outputs": [],
   "source": [
    "resp= pb.read_csv('responses.csv')"
   ]
  },
  {
   "cell_type": "code",
   "execution_count": 5,
   "id": "d5f94219-60f3-4b41-98c1-410c1e6e3f69",
   "metadata": {
    "colab": {
     "base_uri": "https://localhost:8080/",
     "height": 678
    },
    "id": "d5f94219-60f3-4b41-98c1-410c1e6e3f69",
    "outputId": "1c967ded-c4f9-4fec-c0b6-e4bed3da694d"
   },
   "outputs": [
    {
     "data": {
      "text/html": [
       "<div>\n",
       "<style scoped>\n",
       "    .dataframe tbody tr th:only-of-type {\n",
       "        vertical-align: middle;\n",
       "    }\n",
       "\n",
       "    .dataframe tbody tr th {\n",
       "        vertical-align: top;\n",
       "    }\n",
       "\n",
       "    .dataframe thead th {\n",
       "        text-align: right;\n",
       "    }\n",
       "</style>\n",
       "<table border=\"1\" class=\"dataframe\">\n",
       "  <thead>\n",
       "    <tr style=\"text-align: right;\">\n",
       "      <th></th>\n",
       "      <th>Timestamp</th>\n",
       "      <th>Name</th>\n",
       "      <th>Year of Study</th>\n",
       "      <th>Course</th>\n",
       "      <th>Branch</th>\n",
       "      <th>How many people do you usually dine with?</th>\n",
       "      <th>Which meal do you most frequently purchase from food outlets, either on or off-campus?</th>\n",
       "      <th>What time do you usually eat the selected meal?</th>\n",
       "      <th>How hungry are you before deciding where to eat?</th>\n",
       "      <th>Do you usually prefer to have drinks with your meal?</th>\n",
       "      <th>What is your average budget per person for a meal (enter numerical value only)?</th>\n",
       "      <th>How far are you willing to travel for food? (in minutes walking/biking/driving) (enter numerical value only)</th>\n",
       "      <th>What type of food do you usually prefer while eating out?</th>\n",
       "      <th>Where do you usually go to eat based on your selections above? (on campus)</th>\n",
       "      <th>off campus</th>\n",
       "      <th>How often do you visit these places in a week?</th>\n",
       "      <th>What factors influence your choice the most? (Select up to 3)</th>\n",
       "      <th>Do you have any dietary restrictions or preferences?</th>\n",
       "    </tr>\n",
       "  </thead>\n",
       "  <tbody>\n",
       "    <tr>\n",
       "      <th>0</th>\n",
       "      <td>4/4/2025 19:18:29</td>\n",
       "      <td>Muskan</td>\n",
       "      <td>1</td>\n",
       "      <td>MTech</td>\n",
       "      <td>Computer Science</td>\n",
       "      <td>2-3 people</td>\n",
       "      <td>Evening Refreshments</td>\n",
       "      <td>17</td>\n",
       "      <td>Somewhat hungry</td>\n",
       "      <td>No</td>\n",
       "      <td>80</td>\n",
       "      <td>5</td>\n",
       "      <td>Veg</td>\n",
       "      <td>Nescafe</td>\n",
       "      <td>bowzi</td>\n",
       "      <td>Rarely (1-2 times)</td>\n",
       "      <td>Food Quality</td>\n",
       "      <td>No</td>\n",
       "    </tr>\n",
       "    <tr>\n",
       "      <th>1</th>\n",
       "      <td>4/4/2025 22:38:53</td>\n",
       "      <td>Rahul Sharma</td>\n",
       "      <td>4</td>\n",
       "      <td>BTech</td>\n",
       "      <td>MCE</td>\n",
       "      <td>More than 6</td>\n",
       "      <td>Dinner</td>\n",
       "      <td>22</td>\n",
       "      <td>Very hungry</td>\n",
       "      <td>Yes</td>\n",
       "      <td>200</td>\n",
       "      <td>10</td>\n",
       "      <td>Non Veg</td>\n",
       "      <td>Canteen</td>\n",
       "      <td>crazy crisp</td>\n",
       "      <td>Rarely (1-2 times)</td>\n",
       "      <td>Price, Distance, Food Quality, Speed of Service</td>\n",
       "      <td>Lactose intolerance</td>\n",
       "    </tr>\n",
       "    <tr>\n",
       "      <th>2</th>\n",
       "      <td>4/4/2025 22:46:26</td>\n",
       "      <td>Ayush</td>\n",
       "      <td>3</td>\n",
       "      <td>BTech</td>\n",
       "      <td>Software Engineering</td>\n",
       "      <td>2-3 people</td>\n",
       "      <td>Dinner</td>\n",
       "      <td>22</td>\n",
       "      <td>Somewhat hungry</td>\n",
       "      <td>No</td>\n",
       "      <td>140</td>\n",
       "      <td>7</td>\n",
       "      <td>Doesn't affect my choice of outlet</td>\n",
       "      <td>Hims</td>\n",
       "      <td>Zomato/Mehfil</td>\n",
       "      <td>Often (5+ times)</td>\n",
       "      <td>Food Quality, Variety</td>\n",
       "      <td>No</td>\n",
       "    </tr>\n",
       "    <tr>\n",
       "      <th>3</th>\n",
       "      <td>4/4/2025 22:52:55</td>\n",
       "      <td>Tanvi Rai</td>\n",
       "      <td>1</td>\n",
       "      <td>MSC</td>\n",
       "      <td>Management</td>\n",
       "      <td>Alone</td>\n",
       "      <td>Evening Refreshments</td>\n",
       "      <td>16</td>\n",
       "      <td>Very hungry</td>\n",
       "      <td>Yes</td>\n",
       "      <td>200</td>\n",
       "      <td>10</td>\n",
       "      <td>Veg</td>\n",
       "      <td>Raydee</td>\n",
       "      <td>bowzi</td>\n",
       "      <td>Sometimes (3-4 times)</td>\n",
       "      <td>Price</td>\n",
       "      <td>Vegetarian food</td>\n",
       "    </tr>\n",
       "    <tr>\n",
       "      <th>4</th>\n",
       "      <td>4/4/2025 22:59:07</td>\n",
       "      <td>Komal</td>\n",
       "      <td>3</td>\n",
       "      <td>BTech</td>\n",
       "      <td>Software engineering</td>\n",
       "      <td>2-3 people</td>\n",
       "      <td>Dinner</td>\n",
       "      <td>20</td>\n",
       "      <td>Somewhat hungry</td>\n",
       "      <td>No</td>\n",
       "      <td>100</td>\n",
       "      <td>0</td>\n",
       "      <td>Non Veg</td>\n",
       "      <td>Raj soin</td>\n",
       "      <td>dtu cafe</td>\n",
       "      <td>Sometimes (3-4 times)</td>\n",
       "      <td>Price, Food Quality, Friend's Preference</td>\n",
       "      <td>Nope</td>\n",
       "    </tr>\n",
       "  </tbody>\n",
       "</table>\n",
       "</div>"
      ],
      "text/plain": [
       "           Timestamp         Name   Year of Study Course   \\\n",
       "0  4/4/2025 19:18:29        Muskan              1   MTech   \n",
       "1  4/4/2025 22:38:53  Rahul Sharma              4   BTech   \n",
       "2  4/4/2025 22:46:26         Ayush              3   BTech   \n",
       "3  4/4/2025 22:52:55     Tanvi Rai              1     MSC   \n",
       "4  4/4/2025 22:59:07        Komal               3   BTech   \n",
       "\n",
       "                Branch    How many people do you usually dine with?    \\\n",
       "0     Computer Science                                     2-3 people   \n",
       "1                   MCE                                   More than 6   \n",
       "2  Software Engineering                                    2-3 people   \n",
       "3           Management                                          Alone   \n",
       "4  Software engineering                                    2-3 people   \n",
       "\n",
       "  Which meal do you most frequently purchase from food outlets, either on or off-campus?   \\\n",
       "0                               Evening Refreshments                                        \n",
       "1                                             Dinner                                        \n",
       "2                                             Dinner                                        \n",
       "3                               Evening Refreshments                                        \n",
       "4                                             Dinner                                        \n",
       "\n",
       "  What time do you usually eat the selected meal?  \\\n",
       "0                                              17   \n",
       "1                                              22   \n",
       "2                                              22   \n",
       "3                                              16   \n",
       "4                                              20   \n",
       "\n",
       "    How hungry are you before deciding where to eat?    \\\n",
       "0                                    Somewhat hungry     \n",
       "1                                        Very hungry     \n",
       "2                                    Somewhat hungry     \n",
       "3                                        Very hungry     \n",
       "4                                    Somewhat hungry     \n",
       "\n",
       "    Do you usually prefer to have drinks with your meal?    \\\n",
       "0                                                 No         \n",
       "1                                                Yes         \n",
       "2                                                 No         \n",
       "3                                                Yes         \n",
       "4                                                 No         \n",
       "\n",
       "     What is your average budget per person for a meal (enter numerical value only)?  \\\n",
       "0                                                 80                                   \n",
       "1                                                200                                   \n",
       "2                                                140                                   \n",
       "3                                                200                                   \n",
       "4                                                100                                   \n",
       "\n",
       "     How far are you willing to travel for food? (in minutes walking/biking/driving) (enter numerical value only)  \\\n",
       "0                                                  5                                                                \n",
       "1                                                 10                                                                \n",
       "2                                                  7                                                                \n",
       "3                                                 10                                                                \n",
       "4                                                  0                                                                \n",
       "\n",
       "  What type of food do you usually prefer while eating out?   \\\n",
       "0                                                Veg           \n",
       "1                                            Non Veg           \n",
       "2                 Doesn't affect my choice of outlet           \n",
       "3                                                Veg           \n",
       "4                                            Non Veg           \n",
       "\n",
       "    Where do you usually go to eat based on your selections above? (on campus)  \\\n",
       "0                                           Nescafe                              \n",
       "1                                            Canteen                             \n",
       "2                                               Hims                             \n",
       "3                                             Raydee                             \n",
       "4                                           Raj soin                             \n",
       "\n",
       "     off campus    How often do you visit these places in a week?    \\\n",
       "0          bowzi                                 Rarely (1-2 times)   \n",
       "1    crazy crisp                                 Rarely (1-2 times)   \n",
       "2  Zomato/Mehfil                                   Often (5+ times)   \n",
       "3          bowzi                              Sometimes (3-4 times)   \n",
       "4       dtu cafe                              Sometimes (3-4 times)   \n",
       "\n",
       "    What factors influence your choice the most? (Select up to 3)    \\\n",
       "0                                       Food Quality                  \n",
       "1    Price, Distance, Food Quality, Speed of Service                  \n",
       "2                              Food Quality, Variety                  \n",
       "3                                              Price                  \n",
       "4           Price, Food Quality, Friend's Preference                  \n",
       "\n",
       "    Do you have any dietary restrictions or preferences?    \n",
       "0                                                 No        \n",
       "1                               Lactose intolerance         \n",
       "2                                                 No        \n",
       "3                                    Vegetarian food        \n",
       "4                                               Nope        "
      ]
     },
     "execution_count": 5,
     "metadata": {},
     "output_type": "execute_result"
    }
   ],
   "source": [
    "resp.head()"
   ]
  },
  {
   "cell_type": "code",
   "execution_count": 6,
   "id": "5e7b4ac8-bbc6-4d64-9b29-1e3fee88a202",
   "metadata": {
    "colab": {
     "base_uri": "https://localhost:8080/"
    },
    "id": "5e7b4ac8-bbc6-4d64-9b29-1e3fee88a202",
    "outputId": "e0041fc6-cec6-4c68-d5a2-b4de179464ae"
   },
   "outputs": [
    {
     "data": {
      "text/plain": [
       "(197, 18)"
      ]
     },
     "execution_count": 6,
     "metadata": {},
     "output_type": "execute_result"
    }
   ],
   "source": [
    "resp.shape"
   ]
  },
  {
   "cell_type": "code",
   "execution_count": 7,
   "id": "O5T7YPseQivi",
   "metadata": {
    "id": "O5T7YPseQivi"
   },
   "outputs": [],
   "source": [
    "resp.drop('Timestamp',axis=1,inplace=True)"
   ]
  },
  {
   "cell_type": "code",
   "execution_count": 8,
   "id": "wYLQ4iLQSKQ8",
   "metadata": {
    "id": "wYLQ4iLQSKQ8"
   },
   "outputs": [],
   "source": [
    "# resp.drop('id',axis=1,inplace=True)"
   ]
  },
  {
   "cell_type": "code",
   "execution_count": 9,
   "id": "IE4tx75SRy3E",
   "metadata": {
    "id": "IE4tx75SRy3E"
   },
   "outputs": [],
   "source": [
    "# resp.insert(0, 'id', range(len(resp)))\n",
    "resp.insert(0, 'id', [f'ID{str(i).zfill(3)}' for i in range(1, len(resp) + 1)])\n"
   ]
  },
  {
   "cell_type": "code",
   "execution_count": 10,
   "id": "Hb65iYLqTH5z",
   "metadata": {
    "id": "Hb65iYLqTH5z"
   },
   "outputs": [],
   "source": [
    "resp.rename(columns={'  Do you have any dietary restrictions or preferences?  ': 'dietary_restriction'}, inplace=True)\n",
    "resp.rename(columns={'  What factors influence your choice the most? (Select up to 3)  ': 'factors'}, inplace=True)\n",
    "resp.rename(columns={'What type of food do you usually prefer while eating out? ': 'preferred_food_type'}, inplace=True)\n",
    "resp.rename(columns={'  What is your average budget per person for a meal (enter numerical value only)?': 'budget'}, inplace=True)\n",
    "resp.rename(columns={'  Do you usually prefer to have drinks with your meal?  ': 'prefer_drinks'}, inplace=True)\n",
    "resp.rename(columns={'  How hungry are you before deciding where to eat?  ': 'hunger_level'}, inplace=True)\n",
    "resp.rename(columns={'  Where do you usually go to eat based on your selections above? (on campus)': 'places'}, inplace=True)\n",
    "resp.rename(columns={'Which meal do you most frequently purchase from food outlets, either on or off-campus? ': 'frequent_meal_type'}, inplace=True)\n",
    "resp.rename(columns={'  How far are you willing to travel for food? (in minutes walking/biking/driving) (enter numerical value only)': 'distance'}, inplace=True)"
   ]
  },
  {
   "cell_type": "code",
   "execution_count": 11,
   "id": "Mi3XsBrYTpzA",
   "metadata": {
    "id": "Mi3XsBrYTpzA"
   },
   "outputs": [],
   "source": [
    "resp.drop(['Name ','Year of Study','Course ','Branch ','  How often do you visit these places in a week?  ','off campus ','What time do you usually eat the selected meal?','  How many people do you usually dine with?  '],axis=1,inplace=True)\n",
    "\n"
   ]
  },
  {
   "cell_type": "code",
   "execution_count": 12,
   "id": "w7OxlY-SDzOG",
   "metadata": {
    "colab": {
     "base_uri": "https://localhost:8080/",
     "height": 547
    },
    "id": "w7OxlY-SDzOG",
    "outputId": "5bc5e290-548e-400b-cf2e-c6253954b361"
   },
   "outputs": [],
   "source": [
    "resp['places'] = resp['places'].replace('i dont eat on campus', 'canteen')"
   ]
  },
  {
   "cell_type": "code",
   "execution_count": 13,
   "id": "-aCYgqLnEVNz",
   "metadata": {
    "id": "-aCYgqLnEVNz"
   },
   "outputs": [],
   "source": [
    "resp['places'] = resp['places'].replace('Canteen', 'canteen')"
   ]
  },
  {
   "cell_type": "code",
   "execution_count": 14,
   "id": "VRjJ4kfHEa_P",
   "metadata": {
    "id": "VRjJ4kfHEa_P"
   },
   "outputs": [],
   "source": [
    "resp['places'] = resp['places'].replace('Bistro 57', 'Bistro57')\n",
    "resp['places'] = resp['places'].replace('Bistro', 'Bistro57')\n",
    "resp['places'] = resp['places'].replace('bistro', 'Bistro57')\n",
    "resp['places'] = resp['places'].replace( 'udipi', 'udupi')\n",
    "resp['places'] = resp['places'].replace( 'DelTech cafe', 'deltech')\n",
    "resp['places'] = resp['places'].replace( 'Any Mess', 'Mess')\n",
    "resp['places'] = resp['places'].replace( 'Raj soin', 'Raj_Soin')\n",
    "resp['places'] = resp['places'].replace( 'Rajsoin, Deltech', 'Raj_Soin')\n",
    "resp['places'] = resp['places'].replace( 'Nescafe ', 'Nescafe')\n",
    "resp['places'] = resp['places'].replace( 'Deltech', 'deltech')\n",
    "resp['places'] = resp['places'].replace( 'Deltech cafe, bistro', 'bistro')\n",
    "resp['places'] = resp['places'].replace( 'DelTech', 'deltech')\n",
    "resp['places'] = resp['places'].replace('Udupi Cafe', 'udupi')\n",
    "resp['places'] = resp['places'].replace('canteen', 'Raj_Soin')\n",
    "resp['places'] = resp['places'].replace('Bistro57', 'Raj_Soin')\n",
    "resp['places'] = resp['places'].replace('Dominos', 'Raj_Soin')\n",
    "resp['places'] = resp['places'].replace('Dominos', 'Raj_Soin')"
   ]
  },
  {
   "cell_type": "code",
   "execution_count": 15,
   "id": "-E9mwYSqEldy",
   "metadata": {
    "id": "-E9mwYSqEldy"
   },
   "outputs": [],
   "source": [
    "resp['places'] = resp['places'].replace('Udupi (Raj Soin)', 'udupi')\n",
    "resp['places'] = resp['places'].replace('At Raj Soin', 'Raj_Soin')\n",
    "resp['places'] = resp['places'].replace('Udupi', 'udupi')"
   ]
  },
  {
   "cell_type": "code",
   "execution_count": 16,
   "id": "h_bJbX6zDN8N",
   "metadata": {
    "colab": {
     "base_uri": "https://localhost:8080/"
    },
    "id": "h_bJbX6zDN8N",
    "outputId": "8cd95971-0165-4b7c-fdca-4ac2a5ce98b4"
   },
   "outputs": [
    {
     "data": {
      "text/plain": [
       "array(['Nescafe', 'Raj_Soin', 'Hims', 'Raydee', 'Mess', 'Dosa Plaza',\n",
       "       'udupi', 'deltech', 'bistro', 'Dazzledine'], dtype=object)"
      ]
     },
     "execution_count": 16,
     "metadata": {},
     "output_type": "execute_result"
    }
   ],
   "source": [
    "resp['places'].unique()"
   ]
  },
  {
   "cell_type": "code",
   "execution_count": 17,
   "id": "rRBhBjUhHQ6F",
   "metadata": {
    "colab": {
     "base_uri": "https://localhost:8080/",
     "height": 535
    },
    "id": "rRBhBjUhHQ6F",
    "outputId": "fb6e66bc-148f-442e-fb04-577a28014d5f"
   },
   "outputs": [
    {
     "data": {
      "image/png": "[encoded data removed]",
      "text/plain": [
       "<Figure size 1000x600 with 1 Axes>"
      ]
     },
     "metadata": {},
     "output_type": "display_data"
    }
   ],
   "source": [
    "import matplotlib.pyplot as plt\n",
    "\n",
    "place_counts = resp['places'].value_counts()\n",
    "\n",
    "plt.figure(figsize=(10,6))\n",
    "plt.bar(place_counts.index, place_counts.values, color='skyblue')\n",
    "plt.xticks(rotation=45, ha='right')\n",
    "plt.title('Distribution of Eating Places')\n",
    "plt.xlabel('Place')\n",
    "plt.ylabel('Number of Responses')\n",
    "plt.tight_layout()\n",
    "plt.show()"
   ]
  },
  {
   "cell_type": "code",
   "execution_count": 18,
   "id": "ec6451c5-0906-42f5-92db-070781c84103",
   "metadata": {},
   "outputs": [
    {
     "name": "stdout",
     "output_type": "stream",
     "text": [
      "places\n",
      "Raj_Soin      89\n",
      "Hims          37\n",
      "Raydee        20\n",
      "Dosa Plaza    15\n",
      "Nescafe       14\n",
      "Mess          11\n",
      "deltech        5\n",
      "udupi          4\n",
      "bistro         1\n",
      "Dazzledine     1\n",
      "Name: count, dtype: int64\n"
     ]
    }
   ],
   "source": [
    "place_counts = resp['places'].value_counts()\n",
    "print(place_counts)"
   ]
  },
  {
   "cell_type": "code",
   "execution_count": 19,
   "id": "hlTjJhExW1Qp",
   "metadata": {
    "colab": {
     "base_uri": "https://localhost:8080/",
     "height": 452
    },
    "id": "hlTjJhExW1Qp",
    "outputId": "0ebcf25c-32e8-4299-8e4f-2f642d0a2fa5"
   },
   "outputs": [
    {
     "data": {
      "text/html": [
       "<div>\n",
       "<style scoped>\n",
       "    .dataframe tbody tr th:only-of-type {\n",
       "        vertical-align: middle;\n",
       "    }\n",
       "\n",
       "    .dataframe tbody tr th {\n",
       "        vertical-align: top;\n",
       "    }\n",
       "\n",
       "    .dataframe thead th {\n",
       "        text-align: right;\n",
       "    }\n",
       "</style>\n",
       "<table border=\"1\" class=\"dataframe\">\n",
       "  <thead>\n",
       "    <tr style=\"text-align: right;\">\n",
       "      <th></th>\n",
       "      <th>id</th>\n",
       "      <th>frequent_meal_type</th>\n",
       "      <th>hunger_level</th>\n",
       "      <th>prefer_drinks</th>\n",
       "      <th>budget</th>\n",
       "      <th>distance</th>\n",
       "      <th>preferred_food_type</th>\n",
       "      <th>places</th>\n",
       "      <th>factors</th>\n",
       "      <th>dietary_restriction</th>\n",
       "    </tr>\n",
       "  </thead>\n",
       "  <tbody>\n",
       "    <tr>\n",
       "      <th>0</th>\n",
       "      <td>ID001</td>\n",
       "      <td>Evening Refreshments</td>\n",
       "      <td>Somewhat hungry</td>\n",
       "      <td>No</td>\n",
       "      <td>80</td>\n",
       "      <td>5</td>\n",
       "      <td>Veg</td>\n",
       "      <td>Nescafe</td>\n",
       "      <td>Food Quality</td>\n",
       "      <td>No</td>\n",
       "    </tr>\n",
       "    <tr>\n",
       "      <th>1</th>\n",
       "      <td>ID002</td>\n",
       "      <td>Dinner</td>\n",
       "      <td>Very hungry</td>\n",
       "      <td>Yes</td>\n",
       "      <td>200</td>\n",
       "      <td>10</td>\n",
       "      <td>Non Veg</td>\n",
       "      <td>Raj_Soin</td>\n",
       "      <td>Price, Distance, Food Quality, Speed of Service</td>\n",
       "      <td>Lactose intolerance</td>\n",
       "    </tr>\n",
       "    <tr>\n",
       "      <th>2</th>\n",
       "      <td>ID003</td>\n",
       "      <td>Dinner</td>\n",
       "      <td>Somewhat hungry</td>\n",
       "      <td>No</td>\n",
       "      <td>140</td>\n",
       "      <td>7</td>\n",
       "      <td>Doesn't affect my choice of outlet</td>\n",
       "      <td>Hims</td>\n",
       "      <td>Food Quality, Variety</td>\n",
       "      <td>No</td>\n",
       "    </tr>\n",
       "    <tr>\n",
       "      <th>3</th>\n",
       "      <td>ID004</td>\n",
       "      <td>Evening Refreshments</td>\n",
       "      <td>Very hungry</td>\n",
       "      <td>Yes</td>\n",
       "      <td>200</td>\n",
       "      <td>10</td>\n",
       "      <td>Veg</td>\n",
       "      <td>Raydee</td>\n",
       "      <td>Price</td>\n",
       "      <td>Vegetarian food</td>\n",
       "    </tr>\n",
       "    <tr>\n",
       "      <th>4</th>\n",
       "      <td>ID005</td>\n",
       "      <td>Dinner</td>\n",
       "      <td>Somewhat hungry</td>\n",
       "      <td>No</td>\n",
       "      <td>100</td>\n",
       "      <td>0</td>\n",
       "      <td>Non Veg</td>\n",
       "      <td>Raj_Soin</td>\n",
       "      <td>Price, Food Quality, Friend's Preference</td>\n",
       "      <td>Nope</td>\n",
       "    </tr>\n",
       "  </tbody>\n",
       "</table>\n",
       "</div>"
      ],
      "text/plain": [
       "      id    frequent_meal_type     hunger_level prefer_drinks  budget  \\\n",
       "0  ID001  Evening Refreshments  Somewhat hungry            No      80   \n",
       "1  ID002                Dinner      Very hungry           Yes     200   \n",
       "2  ID003                Dinner  Somewhat hungry            No     140   \n",
       "3  ID004  Evening Refreshments      Very hungry           Yes     200   \n",
       "4  ID005                Dinner  Somewhat hungry            No     100   \n",
       "\n",
       "   distance                 preferred_food_type    places  \\\n",
       "0         5                                 Veg   Nescafe   \n",
       "1        10                             Non Veg  Raj_Soin   \n",
       "2         7  Doesn't affect my choice of outlet      Hims   \n",
       "3        10                                 Veg    Raydee   \n",
       "4         0                             Non Veg  Raj_Soin   \n",
       "\n",
       "                                           factors   dietary_restriction  \n",
       "0                                     Food Quality                    No  \n",
       "1  Price, Distance, Food Quality, Speed of Service  Lactose intolerance   \n",
       "2                            Food Quality, Variety                    No  \n",
       "3                                            Price       Vegetarian food  \n",
       "4         Price, Food Quality, Friend's Preference                  Nope  "
      ]
     },
     "execution_count": 19,
     "metadata": {},
     "output_type": "execute_result"
    }
   ],
   "source": [
    "resp.head()\n"
   ]
  },
  {
   "cell_type": "code",
   "execution_count": 20,
   "id": "sib2z1H3ABxN",
   "metadata": {
    "colab": {
     "base_uri": "https://localhost:8080/",
     "height": 430
    },
    "id": "sib2z1H3ABxN",
    "outputId": "27465dd1-e4fd-4fe3-97ae-b2b86659a619"
   },
   "outputs": [
    {
     "data": {
      "image/png": "[encoded data removed]",
      "text/plain": [
       "<Figure size 640x480 with 1 Axes>"
      ]
     },
     "metadata": {},
     "output_type": "display_data"
    }
   ],
   "source": [
    "# @title preferred_food_type\n",
    "\n",
    "from matplotlib import pyplot as plt\n",
    "import seaborn as sns\n",
    "resp.groupby('preferred_food_type').size().plot(kind='barh', color=sns.palettes.mpl_palette('Dark2'))\n",
    "plt.gca().spines[['top', 'right',]].set_visible(False)"
   ]
  },
  {
   "cell_type": "code",
   "execution_count": 21,
   "id": "CXaKtxsAQKq5",
   "metadata": {
    "id": "CXaKtxsAQKq5"
   },
   "outputs": [],
   "source": [
    "resp['preferred_food_type'] = resp['preferred_food_type'].replace('Vegan', 'Veg')"
   ]
  },
  {
   "cell_type": "code",
   "execution_count": 22,
   "id": "HgUzzuHl_1yk",
   "metadata": {
    "colab": {
     "base_uri": "https://localhost:8080/",
     "height": 430
    },
    "id": "HgUzzuHl_1yk",
    "outputId": "dd11a828-d971-48ad-9b92-de224c553b3a"
   },
   "outputs": [
    {
     "data": {
      "image/png": "[encoded data removed]",
      "text/plain": [
       "<Figure size 640x480 with 1 Axes>"
      ]
     },
     "metadata": {},
     "output_type": "display_data"
    }
   ],
   "source": [
    "# @title prefer_drinks\n",
    "\n",
    "from matplotlib import pyplot as plt\n",
    "import seaborn as sns\n",
    "resp.groupby('prefer_drinks').size().plot(kind='barh', color=sns.palettes.mpl_palette('Dark2'))\n",
    "plt.gca().spines[['top', 'right',]].set_visible(False)"
   ]
  },
  {
   "cell_type": "code",
   "execution_count": 23,
   "id": "ZhbYhz0P_q9z",
   "metadata": {
    "colab": {
     "base_uri": "https://localhost:8080/",
     "height": 430
    },
    "id": "ZhbYhz0P_q9z",
    "outputId": "5b6bf6a5-e2a0-436c-d55f-a7104c0b0754"
   },
   "outputs": [
    {
     "data": {
      "image/png": "[encoded data removed]",
      "text/plain": [
       "<Figure size 640x480 with 1 Axes>"
      ]
     },
     "metadata": {},
     "output_type": "display_data"
    }
   ],
   "source": [
    "# @title hunger_level\n",
    "\n",
    "from matplotlib import pyplot as plt\n",
    "import seaborn as sns\n",
    "resp.groupby('hunger_level').size().plot(kind='barh', color=sns.palettes.mpl_palette('Dark2'))\n",
    "plt.gca().spines[['top', 'right',]].set_visible(False)"
   ]
  },
  {
   "cell_type": "code",
   "execution_count": 24,
   "id": "IxQNBLnjK3r1",
   "metadata": {
    "id": "IxQNBLnjK3r1"
   },
   "outputs": [],
   "source": [
    "resp['hunger_level'] = resp['hunger_level'].replace('Not very hungry', 'Somewhat hungry')"
   ]
  },
  {
   "cell_type": "code",
   "execution_count": 25,
   "id": "wPRk9Lve_b79",
   "metadata": {
    "colab": {
     "base_uri": "https://localhost:8080/",
     "height": 430
    },
    "id": "wPRk9Lve_b79",
    "outputId": "9a5aeb92-b880-4368-bb4a-2274f297b5c6"
   },
   "outputs": [
    {
     "data": {
      "image/png": "[encoded data removed]",
      "text/plain": [
       "<Figure size 640x480 with 1 Axes>"
      ]
     },
     "metadata": {},
     "output_type": "display_data"
    }
   ],
   "source": [
    "# @title frequent_meal_type\n",
    "\n",
    "from matplotlib import pyplot as plt\n",
    "import seaborn as sns\n",
    "resp.groupby('frequent_meal_type').size().plot(kind='barh', color=sns.palettes.mpl_palette('Dark2'))\n",
    "plt.gca().spines[['top', 'right',]].set_visible(False)"
   ]
  },
  {
   "cell_type": "code",
   "execution_count": 26,
   "id": "2GjlCBdpNClZ",
   "metadata": {
    "colab": {
     "base_uri": "https://localhost:8080/",
     "height": 339
    },
    "id": "2GjlCBdpNClZ",
    "outputId": "fe61772f-e1e7-4bba-90d3-363f7b8e1c9a"
   },
   "outputs": [
    {
     "data": {
      "image/png": "[encoded data removed]",
      "text/plain": [
       "<Figure size 640x480 with 1 Axes>"
      ]
     },
     "metadata": {},
     "output_type": "display_data"
    }
   ],
   "source": [
    "from matplotlib import pyplot as plt\n",
    "import seaborn as sns\n",
    "resp.groupby('dietary_restriction').size().plot(kind='barh', color=sns.palettes.mpl_palette('Dark2'))\n",
    "plt.gca().spines[['top', 'right',]].set_visible(False)"
   ]
  },
  {
   "cell_type": "code",
   "execution_count": 27,
   "id": "u4mSPDPmOtmu",
   "metadata": {
    "colab": {
     "base_uri": "https://localhost:8080/",
     "height": 430
    },
    "id": "u4mSPDPmOtmu",
    "outputId": "e3796375-2e32-4802-d38a-40e0c0e3668d"
   },
   "outputs": [
    {
     "data": {
      "image/png": "[encoded data removed]",
      "text/plain": [
       "<Figure size 640x480 with 1 Axes>"
      ]
     },
     "metadata": {},
     "output_type": "display_data"
    }
   ],
   "source": [
    "#distance\n",
    "from matplotlib import pyplot as plt\n",
    "import seaborn as sns\n",
    "resp.groupby('distance').size().plot(kind='barh', color=sns.palettes.mpl_palette('Dark2'))\n",
    "plt.gca().spines[['top', 'right',]].set_visible(False)"
   ]
  },
  {
   "cell_type": "code",
   "execution_count": 28,
   "id": "SwgmGl9jPLHS",
   "metadata": {
    "id": "SwgmGl9jPLHS"
   },
   "outputs": [],
   "source": [
    "bins = [0, 50, 100, 150, 200, 500, 1000, float('inf')]\n",
    "labels = ['<50', '50-100', '100-150', '150-200', '200-500', '500-1000', '1000+']\n",
    "\n",
    "\n",
    "resp['budget_range'] = pb.cut(resp['budget'], bins=bins, labels=labels, include_lowest=True)"
   ]
  },
  {
   "cell_type": "code",
   "execution_count": 29,
   "id": "lFTXNVaXPaSC",
   "metadata": {
    "id": "lFTXNVaXPaSC"
   },
   "outputs": [],
   "source": [
    "resp.drop('budget',axis=True,inplace=True)"
   ]
  },
  {
   "cell_type": "code",
   "execution_count": 30,
   "id": "L_2iw_zQO5TM",
   "metadata": {
    "colab": {
     "base_uri": "https://localhost:8080/",
     "height": 485
    },
    "id": "L_2iw_zQO5TM",
    "outputId": "a41986fb-8119-4253-d1f2-42ddc3ec4688"
   },
   "outputs": [
    {
     "name": "stderr",
     "output_type": "stream",
     "text": [
      "C:\\Users\\Deepak Singh\\AppData\\Local\\Temp\\ipykernel_16936\\237491171.py:3: FutureWarning: The default of observed=False is deprecated and will be changed to True in a future version of pandas. Pass observed=False to retain current behavior or observed=True to adopt the future default and silence this warning.\n",
      "  resp.groupby('budget_range').size().plot(kind='barh', color=sns.palettes.mpl_palette('Dark2'))\n"
     ]
    },
    {
     "data": {
      "image/png": "[encoded data removed]",
      "text/plain": [
       "<Figure size 640x480 with 1 Axes>"
      ]
     },
     "metadata": {},
     "output_type": "display_data"
    }
   ],
   "source": [
    "from matplotlib import pyplot as plt\n",
    "import seaborn as sns\n",
    "resp.groupby('budget_range').size().plot(kind='barh', color=sns.palettes.mpl_palette('Dark2'))\n",
    "plt.gca().spines[['top', 'right',]].set_visible(False)"
   ]
  },
  {
   "cell_type": "code",
   "execution_count": 31,
   "id": "rtl5v8uA-8uD",
   "metadata": {
    "id": "rtl5v8uA-8uD"
   },
   "outputs": [],
   "source": [
    "# resp.to_csv('food_recommendation_data.csv', index=False)\n",
    "resp.drop('dietary_restriction',axis=1,inplace=True)"
   ]
  },
  {
   "cell_type": "code",
   "execution_count": 32,
   "id": "u3kLfGUaX2dg",
   "metadata": {
    "colab": {
     "base_uri": "https://localhost:8080/"
    },
    "id": "u3kLfGUaX2dg",
    "outputId": "65a3f1f7-71ca-4c16-d766-6d2ce7283ec0"
   },
   "outputs": [
    {
     "data": {
      "text/plain": [
       "['id',\n",
       " 'frequent_meal_type',\n",
       " 'hunger_level',\n",
       " 'prefer_drinks',\n",
       " 'distance',\n",
       " 'preferred_food_type',\n",
       " 'places',\n",
       " 'factors',\n",
       " 'budget_range']"
      ]
     },
     "execution_count": 32,
     "metadata": {},
     "output_type": "execute_result"
    }
   ],
   "source": [
    "(resp.columns.tolist())"
   ]
  },
  {
   "cell_type": "code",
   "execution_count": 33,
   "id": "dyP8mv3rJxfI",
   "metadata": {
    "id": "dyP8mv3rJxfI"
   },
   "outputs": [],
   "source": [
    "from sklearn.preprocessing import LabelEncoder\n",
    "\n",
    "le = LabelEncoder()\n",
    "resp['hunger_level_'] = le.fit_transform(resp['hunger_level'])"
   ]
  },
  {
   "cell_type": "code",
   "execution_count": 34,
   "id": "Zhkj3HCYNkHF",
   "metadata": {
    "id": "Zhkj3HCYNkHF"
   },
   "outputs": [],
   "source": [
    "le = LabelEncoder()\n",
    "resp['frequent_meal_type_'] = le.fit_transform(resp['frequent_meal_type'])"
   ]
  },
  {
   "cell_type": "code",
   "execution_count": 35,
   "id": "aqvAUSDlN1sL",
   "metadata": {
    "id": "aqvAUSDlN1sL"
   },
   "outputs": [],
   "source": [
    "le = LabelEncoder()\n",
    "resp['places_'] = le.fit_transform(resp['places'])\n",
    "\n"
   ]
  },
  {
   "cell_type": "code",
   "execution_count": 36,
   "id": "mk_NPN9pPnlR",
   "metadata": {
    "id": "mk_NPN9pPnlR"
   },
   "outputs": [],
   "source": [
    "le = LabelEncoder()\n",
    "resp['prefer_drinks_'] = le.fit_transform(resp['prefer_drinks'])"
   ]
  },
  {
   "cell_type": "code",
   "execution_count": 37,
   "id": "0fwY4tQgQ49k",
   "metadata": {
    "id": "0fwY4tQgQ49k"
   },
   "outputs": [],
   "source": [
    "le = LabelEncoder()\n",
    "resp['prefer_food_type_'] = le.fit_transform(resp['preferred_food_type'])"
   ]
  },
  {
   "cell_type": "code",
   "execution_count": 38,
   "id": "wxOIwGRnP2eY",
   "metadata": {
    "id": "wxOIwGRnP2eY"
   },
   "outputs": [],
   "source": [
    "resp.drop('prefer_drinks',axis=1,inplace=True)"
   ]
  },
  {
   "cell_type": "code",
   "execution_count": 39,
   "id": "UE30d4JZROfz",
   "metadata": {
    "id": "UE30d4JZROfz"
   },
   "outputs": [],
   "source": [
    "resp.drop('preferred_food_type',axis=1,inplace=True)"
   ]
  },
  {
   "cell_type": "code",
   "execution_count": 40,
   "id": "kt5ZMLd1OK1y",
   "metadata": {
    "colab": {
     "base_uri": "https://localhost:8080/"
    },
    "id": "kt5ZMLd1OK1y",
    "outputId": "efdb5cfd-d84a-484b-c227-f77921224935"
   },
   "outputs": [
    {
     "name": "stdout",
     "output_type": "stream",
     "text": [
      "0: Doesn't affect my choice of outlet\n",
      "1: Non Veg\n",
      "2: Veg\n"
     ]
    }
   ],
   "source": [
    "#check the mapping\n",
    "for idx, label in enumerate(le.classes_):\n",
    "    print(f\"{idx}: {label}\")"
   ]
  },
  {
   "cell_type": "code",
   "execution_count": 41,
   "id": "hLwzY5ZSKmWj",
   "metadata": {
    "id": "hLwzY5ZSKmWj"
   },
   "outputs": [],
   "source": [
    "resp.drop('hunger_level',axis=1,inplace=True)\n"
   ]
  },
  {
   "cell_type": "code",
   "execution_count": 42,
   "id": "_8SNbTR2OaZt",
   "metadata": {
    "id": "_8SNbTR2OaZt"
   },
   "outputs": [],
   "source": [
    "resp.drop('frequent_meal_type',axis=1,inplace=True)\n",
    "resp.drop('places',axis=1,inplace=True)\n",
    "resp.drop('factors',axis=1,inplace=True)\n",
    "resp.drop('distance',axis=1,inplace=True)"
   ]
  },
  {
   "cell_type": "code",
   "execution_count": 43,
   "id": "1c55eca5-8f77-4cc3-9ee8-f6d63e366dbc",
   "metadata": {},
   "outputs": [
    {
     "data": {
      "text/html": [
       "<div>\n",
       "<style scoped>\n",
       "    .dataframe tbody tr th:only-of-type {\n",
       "        vertical-align: middle;\n",
       "    }\n",
       "\n",
       "    .dataframe tbody tr th {\n",
       "        vertical-align: top;\n",
       "    }\n",
       "\n",
       "    .dataframe thead th {\n",
       "        text-align: right;\n",
       "    }\n",
       "</style>\n",
       "<table border=\"1\" class=\"dataframe\">\n",
       "  <thead>\n",
       "    <tr style=\"text-align: right;\">\n",
       "      <th></th>\n",
       "      <th>id</th>\n",
       "      <th>budget_range</th>\n",
       "      <th>hunger_level_</th>\n",
       "      <th>frequent_meal_type_</th>\n",
       "      <th>places_</th>\n",
       "      <th>prefer_drinks_</th>\n",
       "      <th>prefer_food_type_</th>\n",
       "    </tr>\n",
       "  </thead>\n",
       "  <tbody>\n",
       "    <tr>\n",
       "      <th>0</th>\n",
       "      <td>ID001</td>\n",
       "      <td>50-100</td>\n",
       "      <td>0</td>\n",
       "      <td>2</td>\n",
       "      <td>4</td>\n",
       "      <td>0</td>\n",
       "      <td>2</td>\n",
       "    </tr>\n",
       "    <tr>\n",
       "      <th>1</th>\n",
       "      <td>ID002</td>\n",
       "      <td>150-200</td>\n",
       "      <td>1</td>\n",
       "      <td>1</td>\n",
       "      <td>5</td>\n",
       "      <td>1</td>\n",
       "      <td>1</td>\n",
       "    </tr>\n",
       "    <tr>\n",
       "      <th>2</th>\n",
       "      <td>ID003</td>\n",
       "      <td>100-150</td>\n",
       "      <td>0</td>\n",
       "      <td>1</td>\n",
       "      <td>2</td>\n",
       "      <td>0</td>\n",
       "      <td>0</td>\n",
       "    </tr>\n",
       "    <tr>\n",
       "      <th>3</th>\n",
       "      <td>ID004</td>\n",
       "      <td>150-200</td>\n",
       "      <td>1</td>\n",
       "      <td>2</td>\n",
       "      <td>6</td>\n",
       "      <td>1</td>\n",
       "      <td>2</td>\n",
       "    </tr>\n",
       "    <tr>\n",
       "      <th>4</th>\n",
       "      <td>ID005</td>\n",
       "      <td>50-100</td>\n",
       "      <td>0</td>\n",
       "      <td>1</td>\n",
       "      <td>5</td>\n",
       "      <td>0</td>\n",
       "      <td>1</td>\n",
       "    </tr>\n",
       "    <tr>\n",
       "      <th>...</th>\n",
       "      <td>...</td>\n",
       "      <td>...</td>\n",
       "      <td>...</td>\n",
       "      <td>...</td>\n",
       "      <td>...</td>\n",
       "      <td>...</td>\n",
       "      <td>...</td>\n",
       "    </tr>\n",
       "    <tr>\n",
       "      <th>192</th>\n",
       "      <td>ID193</td>\n",
       "      <td>50-100</td>\n",
       "      <td>0</td>\n",
       "      <td>3</td>\n",
       "      <td>5</td>\n",
       "      <td>1</td>\n",
       "      <td>0</td>\n",
       "    </tr>\n",
       "    <tr>\n",
       "      <th>193</th>\n",
       "      <td>ID194</td>\n",
       "      <td>50-100</td>\n",
       "      <td>0</td>\n",
       "      <td>3</td>\n",
       "      <td>9</td>\n",
       "      <td>1</td>\n",
       "      <td>2</td>\n",
       "    </tr>\n",
       "    <tr>\n",
       "      <th>194</th>\n",
       "      <td>ID195</td>\n",
       "      <td>500-1000</td>\n",
       "      <td>0</td>\n",
       "      <td>1</td>\n",
       "      <td>4</td>\n",
       "      <td>1</td>\n",
       "      <td>0</td>\n",
       "    </tr>\n",
       "    <tr>\n",
       "      <th>195</th>\n",
       "      <td>ID196</td>\n",
       "      <td>50-100</td>\n",
       "      <td>1</td>\n",
       "      <td>2</td>\n",
       "      <td>6</td>\n",
       "      <td>0</td>\n",
       "      <td>2</td>\n",
       "    </tr>\n",
       "    <tr>\n",
       "      <th>196</th>\n",
       "      <td>ID197</td>\n",
       "      <td>150-200</td>\n",
       "      <td>0</td>\n",
       "      <td>3</td>\n",
       "      <td>2</td>\n",
       "      <td>0</td>\n",
       "      <td>2</td>\n",
       "    </tr>\n",
       "  </tbody>\n",
       "</table>\n",
       "<p>197 rows × 7 columns</p>\n",
       "</div>"
      ],
      "text/plain": [
       "        id budget_range  hunger_level_  frequent_meal_type_  places_  \\\n",
       "0    ID001       50-100              0                    2        4   \n",
       "1    ID002      150-200              1                    1        5   \n",
       "2    ID003      100-150              0                    1        2   \n",
       "3    ID004      150-200              1                    2        6   \n",
       "4    ID005       50-100              0                    1        5   \n",
       "..     ...          ...            ...                  ...      ...   \n",
       "192  ID193       50-100              0                    3        5   \n",
       "193  ID194       50-100              0                    3        9   \n",
       "194  ID195     500-1000              0                    1        4   \n",
       "195  ID196       50-100              1                    2        6   \n",
       "196  ID197      150-200              0                    3        2   \n",
       "\n",
       "     prefer_drinks_  prefer_food_type_  \n",
       "0                 0                  2  \n",
       "1                 1                  1  \n",
       "2                 0                  0  \n",
       "3                 1                  2  \n",
       "4                 0                  1  \n",
       "..              ...                ...  \n",
       "192               1                  0  \n",
       "193               1                  2  \n",
       "194               1                  0  \n",
       "195               0                  2  \n",
       "196               0                  2  \n",
       "\n",
       "[197 rows x 7 columns]"
      ]
     },
     "execution_count": 43,
     "metadata": {},
     "output_type": "execute_result"
    }
   ],
   "source": [
    "resp"
   ]
  },
  {
   "cell_type": "markdown",
   "id": "h4LZZWr-P_QZ",
   "metadata": {
    "id": "h4LZZWr-P_QZ"
   },
   "source": [
    "# Logistic Regression"
   ]
  },
  {
   "cell_type": "code",
   "execution_count": 44,
   "id": "j6v3T_-1Oi6F",
   "metadata": {
    "colab": {
     "base_uri": "https://localhost:8080/"
    },
    "id": "j6v3T_-1Oi6F",
    "outputId": "a9b486c6-b725-406b-c215-5bf6553a853d"
   },
   "outputs": [
    {
     "name": "stdout",
     "output_type": "stream",
     "text": [
      "              precision    recall  f1-score   support\n",
      "\n",
      "           1       0.00      0.00      0.00         5\n",
      "           2       0.00      0.00      0.00         7\n",
      "           3       0.00      0.00      0.00         3\n",
      "           4       0.00      0.00      0.00         2\n",
      "           5       0.45      0.89      0.60        19\n",
      "           6       0.00      0.00      0.00         3\n",
      "           9       0.00      0.00      0.00         1\n",
      "\n",
      "    accuracy                           0.42        40\n",
      "   macro avg       0.06      0.13      0.09        40\n",
      "weighted avg       0.21      0.42      0.28        40\n",
      "\n"
     ]
    },
    {
     "name": "stderr",
     "output_type": "stream",
     "text": [
      "C:\\Users\\Deepak Singh\\AppData\\Roaming\\Python\\Python311\\site-packages\\sklearn\\linear_model\\_logistic.py:1247: FutureWarning: 'multi_class' was deprecated in version 1.5 and will be removed in 1.7. From then on, it will always use 'multinomial'. Leave it to its default value to avoid this warning.\n",
      "  warnings.warn(\n",
      "C:\\Users\\Deepak Singh\\AppData\\Roaming\\Python\\Python311\\site-packages\\sklearn\\metrics\\_classification.py:1565: UndefinedMetricWarning: Precision is ill-defined and being set to 0.0 in labels with no predicted samples. Use `zero_division` parameter to control this behavior.\n",
      "  _warn_prf(average, modifier, f\"{metric.capitalize()} is\", len(result))\n",
      "C:\\Users\\Deepak Singh\\AppData\\Roaming\\Python\\Python311\\site-packages\\sklearn\\metrics\\_classification.py:1565: UndefinedMetricWarning: Precision is ill-defined and being set to 0.0 in labels with no predicted samples. Use `zero_division` parameter to control this behavior.\n",
      "  _warn_prf(average, modifier, f\"{metric.capitalize()} is\", len(result))\n",
      "C:\\Users\\Deepak Singh\\AppData\\Roaming\\Python\\Python311\\site-packages\\sklearn\\metrics\\_classification.py:1565: UndefinedMetricWarning: Precision is ill-defined and being set to 0.0 in labels with no predicted samples. Use `zero_division` parameter to control this behavior.\n",
      "  _warn_prf(average, modifier, f\"{metric.capitalize()} is\", len(result))\n"
     ]
    }
   ],
   "source": [
    "from sklearn.model_selection import train_test_split\n",
    "from sklearn.linear_model import LogisticRegression\n",
    "from sklearn.metrics import classification_report\n",
    "\n",
    "X = resp[['hunger_level_', 'frequent_meal_type_', 'budget_range', 'prefer_drinks_', 'prefer_food_type_']]\n",
    "y = resp['places_']\n",
    "\n",
    "# One-hot encode budget range if needed\n",
    "X = pb.get_dummies(X, columns=['budget_range'])\n",
    "\n",
    "X_train, X_test, y_train, y_test = train_test_split(X, y, test_size=0.2, random_state=42)\n",
    "\n",
    "model = LogisticRegression(multi_class='multinomial', solver='lbfgs', max_iter=500)\n",
    "model.fit(X_train, y_train)\n",
    "\n",
    "y_pred = model.predict(X_test)\n",
    "print(classification_report(y_test, y_pred))"
   ]
  },
  {
   "cell_type": "code",
   "execution_count": 45,
   "id": "oSThtxs0S9pb",
   "metadata": {
    "colab": {
     "base_uri": "https://localhost:8080/",
     "height": 430
    },
    "id": "oSThtxs0S9pb",
    "outputId": "520a9bed-fb4d-4602-adaf-6a29e07bf8ad"
   },
   "outputs": [
    {
     "data": {
      "image/png": "[encoded data removed]",
      "text/plain": [
       "<Figure size 640x480 with 1 Axes>"
      ]
     },
     "metadata": {},
     "output_type": "display_data"
    }
   ],
   "source": [
    "from matplotlib import pyplot as plt\n",
    "import seaborn as sns\n",
    "resp.groupby('places_').size().plot(kind='barh', color=sns.palettes.mpl_palette('Dark2'))\n",
    "plt.gca().spines[['top', 'right',]].set_visible(False)"
   ]
  },
  {
   "cell_type": "code",
   "execution_count": 46,
   "id": "EykvXVEFSvvg",
   "metadata": {
    "id": "EykvXVEFSvvg"
   },
   "outputs": [],
   "source": [
    "resp['places_'] = resp['places_'].replace(0, 1)"
   ]
  },
  {
   "cell_type": "markdown",
   "id": "F5QXsPAZSeIM",
   "metadata": {
    "id": "F5QXsPAZSeIM"
   },
   "source": [
    "# Random Forest"
   ]
  },
  {
   "cell_type": "code",
   "execution_count": 47,
   "id": "93d7ce1c-e223-43b4-bde0-6ffa6c655f8f",
   "metadata": {},
   "outputs": [
    {
     "data": {
      "text/html": [
       "<style>#sk-container-id-1 {\n",
       "  /* Definition of color scheme common for light and dark mode */\n",
       "  --sklearn-color-text: #000;\n",
       "  --sklearn-color-text-muted: #666;\n",
       "  --sklearn-color-line: gray;\n",
       "  /* Definition of color scheme for unfitted estimators */\n",
       "  --sklearn-color-unfitted-level-0: #fff5e6;\n",
       "  --sklearn-color-unfitted-level-1: #f6e4d2;\n",
       "  --sklearn-color-unfitted-level-2: #ffe0b3;\n",
       "  --sklearn-color-unfitted-level-3: chocolate;\n",
       "  /* Definition of color scheme for fitted estimators */\n",
       "  --sklearn-color-fitted-level-0: #f0f8ff;\n",
       "  --sklearn-color-fitted-level-1: #d4ebff;\n",
       "  --sklearn-color-fitted-level-2: #b3dbfd;\n",
       "  --sklearn-color-fitted-level-3: cornflowerblue;\n",
       "\n",
       "  /* Specific color for light theme */\n",
       "  --sklearn-color-text-on-default-background: var(--sg-text-color, var(--theme-code-foreground, var(--jp-content-font-color1, black)));\n",
       "  --sklearn-color-background: var(--sg-background-color, var(--theme-background, var(--jp-layout-color0, white)));\n",
       "  --sklearn-color-border-box: var(--sg-text-color, var(--theme-code-foreground, var(--jp-content-font-color1, black)));\n",
       "  --sklearn-color-icon: #696969;\n",
       "\n",
       "  @media (prefers-color-scheme: dark) {\n",
       "    /* Redefinition of color scheme for dark theme */\n",
       "    --sklearn-color-text-on-default-background: var(--sg-text-color, var(--theme-code-foreground, var(--jp-content-font-color1, white)));\n",
       "    --sklearn-color-background: var(--sg-background-color, var(--theme-background, var(--jp-layout-color0, #111)));\n",
       "    --sklearn-color-border-box: var(--sg-text-color, var(--theme-code-foreground, var(--jp-content-font-color1, white)));\n",
       "    --sklearn-color-icon: #878787;\n",
       "  }\n",
       "}\n",
       "\n",
       "#sk-container-id-1 {\n",
       "  color: var(--sklearn-color-text);\n",
       "}\n",
       "\n",
       "#sk-container-id-1 pre {\n",
       "  padding: 0;\n",
       "}\n",
       "\n",
       "#sk-container-id-1 input.sk-hidden--visually {\n",
       "  border: 0;\n",
       "  clip: rect(1px 1px 1px 1px);\n",
       "  clip: rect(1px, 1px, 1px, 1px);\n",
       "  height: 1px;\n",
       "  margin: -1px;\n",
       "  overflow: hidden;\n",
       "  padding: 0;\n",
       "  position: absolute;\n",
       "  width: 1px;\n",
       "}\n",
       "\n",
       "#sk-container-id-1 div.sk-dashed-wrapped {\n",
       "  border: 1px dashed var(--sklearn-color-line);\n",
       "  margin: 0 0.4em 0.5em 0.4em;\n",
       "  box-sizing: border-box;\n",
       "  padding-bottom: 0.4em;\n",
       "  background-color: var(--sklearn-color-background);\n",
       "}\n",
       "\n",
       "#sk-container-id-1 div.sk-container {\n",
       "  /* jupyter's `normalize.less` sets `[hidden] { display: none; }`\n",
       "     but bootstrap.min.css set `[hidden] { display: none !important; }`\n",
       "     so we also need the `!important` here to be able to override the\n",
       "     default hidden behavior on the sphinx rendered scikit-learn.org.\n",
       "     See: https://github.com/scikit-learn/scikit-learn/issues/21755 */\n",
       "  display: inline-block !important;\n",
       "  position: relative;\n",
       "}\n",
       "\n",
       "#sk-container-id-1 div.sk-text-repr-fallback {\n",
       "  display: none;\n",
       "}\n",
       "\n",
       "div.sk-parallel-item,\n",
       "div.sk-serial,\n",
       "div.sk-item {\n",
       "  /* draw centered vertical line to link estimators */\n",
       "  background-image: linear-gradient(var(--sklearn-color-text-on-default-background), var(--sklearn-color-text-on-default-background));\n",
       "  background-size: 2px 100%;\n",
       "  background-repeat: no-repeat;\n",
       "  background-position: center center;\n",
       "}\n",
       "\n",
       "/* Parallel-specific style estimator block */\n",
       "\n",
       "#sk-container-id-1 div.sk-parallel-item::after {\n",
       "  content: \"\";\n",
       "  width: 100%;\n",
       "  border-bottom: 2px solid var(--sklearn-color-text-on-default-background);\n",
       "  flex-grow: 1;\n",
       "}\n",
       "\n",
       "#sk-container-id-1 div.sk-parallel {\n",
       "  display: flex;\n",
       "  align-items: stretch;\n",
       "  justify-content: center;\n",
       "  background-color: var(--sklearn-color-background);\n",
       "  position: relative;\n",
       "}\n",
       "\n",
       "#sk-container-id-1 div.sk-parallel-item {\n",
       "  display: flex;\n",
       "  flex-direction: column;\n",
       "}\n",
       "\n",
       "#sk-container-id-1 div.sk-parallel-item:first-child::after {\n",
       "  align-self: flex-end;\n",
       "  width: 50%;\n",
       "}\n",
       "\n",
       "#sk-container-id-1 div.sk-parallel-item:last-child::after {\n",
       "  align-self: flex-start;\n",
       "  width: 50%;\n",
       "}\n",
       "\n",
       "#sk-container-id-1 div.sk-parallel-item:only-child::after {\n",
       "  width: 0;\n",
       "}\n",
       "\n",
       "/* Serial-specific style estimator block */\n",
       "\n",
       "#sk-container-id-1 div.sk-serial {\n",
       "  display: flex;\n",
       "  flex-direction: column;\n",
       "  align-items: center;\n",
       "  background-color: var(--sklearn-color-background);\n",
       "  padding-right: 1em;\n",
       "  padding-left: 1em;\n",
       "}\n",
       "\n",
       "\n",
       "/* Toggleable style: style used for estimator/Pipeline/ColumnTransformer box that is\n",
       "clickable and can be expanded/collapsed.\n",
       "- Pipeline and ColumnTransformer use this feature and define the default style\n",
       "- Estimators will overwrite some part of the style using the `sk-estimator` class\n",
       "*/\n",
       "\n",
       "/* Pipeline and ColumnTransformer style (default) */\n",
       "\n",
       "#sk-container-id-1 div.sk-toggleable {\n",
       "  /* Default theme specific background. It is overwritten whether we have a\n",
       "  specific estimator or a Pipeline/ColumnTransformer */\n",
       "  background-color: var(--sklearn-color-background);\n",
       "}\n",
       "\n",
       "/* Toggleable label */\n",
       "#sk-container-id-1 label.sk-toggleable__label {\n",
       "  cursor: pointer;\n",
       "  display: flex;\n",
       "  width: 100%;\n",
       "  margin-bottom: 0;\n",
       "  padding: 0.5em;\n",
       "  box-sizing: border-box;\n",
       "  text-align: center;\n",
       "  align-items: start;\n",
       "  justify-content: space-between;\n",
       "  gap: 0.5em;\n",
       "}\n",
       "\n",
       "#sk-container-id-1 label.sk-toggleable__label .caption {\n",
       "  font-size: 0.6rem;\n",
       "  font-weight: lighter;\n",
       "  color: var(--sklearn-color-text-muted);\n",
       "}\n",
       "\n",
       "#sk-container-id-1 label.sk-toggleable__label-arrow:before {\n",
       "  /* Arrow on the left of the label */\n",
       "  content: \"▸\";\n",
       "  float: left;\n",
       "  margin-right: 0.25em;\n",
       "  color: var(--sklearn-color-icon);\n",
       "}\n",
       "\n",
       "#sk-container-id-1 label.sk-toggleable__label-arrow:hover:before {\n",
       "  color: var(--sklearn-color-text);\n",
       "}\n",
       "\n",
       "/* Toggleable content - dropdown */\n",
       "\n",
       "#sk-container-id-1 div.sk-toggleable__content {\n",
       "  max-height: 0;\n",
       "  max-width: 0;\n",
       "  overflow: hidden;\n",
       "  text-align: left;\n",
       "  /* unfitted */\n",
       "  background-color: var(--sklearn-color-unfitted-level-0);\n",
       "}\n",
       "\n",
       "#sk-container-id-1 div.sk-toggleable__content.fitted {\n",
       "  /* fitted */\n",
       "  background-color: var(--sklearn-color-fitted-level-0);\n",
       "}\n",
       "\n",
       "#sk-container-id-1 div.sk-toggleable__content pre {\n",
       "  margin: 0.2em;\n",
       "  border-radius: 0.25em;\n",
       "  color: var(--sklearn-color-text);\n",
       "  /* unfitted */\n",
       "  background-color: var(--sklearn-color-unfitted-level-0);\n",
       "}\n",
       "\n",
       "#sk-container-id-1 div.sk-toggleable__content.fitted pre {\n",
       "  /* unfitted */\n",
       "  background-color: var(--sklearn-color-fitted-level-0);\n",
       "}\n",
       "\n",
       "#sk-container-id-1 input.sk-toggleable__control:checked~div.sk-toggleable__content {\n",
       "  /* Expand drop-down */\n",
       "  max-height: 200px;\n",
       "  max-width: 100%;\n",
       "  overflow: auto;\n",
       "}\n",
       "\n",
       "#sk-container-id-1 input.sk-toggleable__control:checked~label.sk-toggleable__label-arrow:before {\n",
       "  content: \"▾\";\n",
       "}\n",
       "\n",
       "/* Pipeline/ColumnTransformer-specific style */\n",
       "\n",
       "#sk-container-id-1 div.sk-label input.sk-toggleable__control:checked~label.sk-toggleable__label {\n",
       "  color: var(--sklearn-color-text);\n",
       "  background-color: var(--sklearn-color-unfitted-level-2);\n",
       "}\n",
       "\n",
       "#sk-container-id-1 div.sk-label.fitted input.sk-toggleable__control:checked~label.sk-toggleable__label {\n",
       "  background-color: var(--sklearn-color-fitted-level-2);\n",
       "}\n",
       "\n",
       "/* Estimator-specific style */\n",
       "\n",
       "/* Colorize estimator box */\n",
       "#sk-container-id-1 div.sk-estimator input.sk-toggleable__control:checked~label.sk-toggleable__label {\n",
       "  /* unfitted */\n",
       "  background-color: var(--sklearn-color-unfitted-level-2);\n",
       "}\n",
       "\n",
       "#sk-container-id-1 div.sk-estimator.fitted input.sk-toggleable__control:checked~label.sk-toggleable__label {\n",
       "  /* fitted */\n",
       "  background-color: var(--sklearn-color-fitted-level-2);\n",
       "}\n",
       "\n",
       "#sk-container-id-1 div.sk-label label.sk-toggleable__label,\n",
       "#sk-container-id-1 div.sk-label label {\n",
       "  /* The background is the default theme color */\n",
       "  color: var(--sklearn-color-text-on-default-background);\n",
       "}\n",
       "\n",
       "/* On hover, darken the color of the background */\n",
       "#sk-container-id-1 div.sk-label:hover label.sk-toggleable__label {\n",
       "  color: var(--sklearn-color-text);\n",
       "  background-color: var(--sklearn-color-unfitted-level-2);\n",
       "}\n",
       "\n",
       "/* Label box, darken color on hover, fitted */\n",
       "#sk-container-id-1 div.sk-label.fitted:hover label.sk-toggleable__label.fitted {\n",
       "  color: var(--sklearn-color-text);\n",
       "  background-color: var(--sklearn-color-fitted-level-2);\n",
       "}\n",
       "\n",
       "/* Estimator label */\n",
       "\n",
       "#sk-container-id-1 div.sk-label label {\n",
       "  font-family: monospace;\n",
       "  font-weight: bold;\n",
       "  display: inline-block;\n",
       "  line-height: 1.2em;\n",
       "}\n",
       "\n",
       "#sk-container-id-1 div.sk-label-container {\n",
       "  text-align: center;\n",
       "}\n",
       "\n",
       "/* Estimator-specific */\n",
       "#sk-container-id-1 div.sk-estimator {\n",
       "  font-family: monospace;\n",
       "  border: 1px dotted var(--sklearn-color-border-box);\n",
       "  border-radius: 0.25em;\n",
       "  box-sizing: border-box;\n",
       "  margin-bottom: 0.5em;\n",
       "  /* unfitted */\n",
       "  background-color: var(--sklearn-color-unfitted-level-0);\n",
       "}\n",
       "\n",
       "#sk-container-id-1 div.sk-estimator.fitted {\n",
       "  /* fitted */\n",
       "  background-color: var(--sklearn-color-fitted-level-0);\n",
       "}\n",
       "\n",
       "/* on hover */\n",
       "#sk-container-id-1 div.sk-estimator:hover {\n",
       "  /* unfitted */\n",
       "  background-color: var(--sklearn-color-unfitted-level-2);\n",
       "}\n",
       "\n",
       "#sk-container-id-1 div.sk-estimator.fitted:hover {\n",
       "  /* fitted */\n",
       "  background-color: var(--sklearn-color-fitted-level-2);\n",
       "}\n",
       "\n",
       "/* Specification for estimator info (e.g. \"i\" and \"?\") */\n",
       "\n",
       "/* Common style for \"i\" and \"?\" */\n",
       "\n",
       ".sk-estimator-doc-link,\n",
       "a:link.sk-estimator-doc-link,\n",
       "a:visited.sk-estimator-doc-link {\n",
       "  float: right;\n",
       "  font-size: smaller;\n",
       "  line-height: 1em;\n",
       "  font-family: monospace;\n",
       "  background-color: var(--sklearn-color-background);\n",
       "  border-radius: 1em;\n",
       "  height: 1em;\n",
       "  width: 1em;\n",
       "  text-decoration: none !important;\n",
       "  margin-left: 0.5em;\n",
       "  text-align: center;\n",
       "  /* unfitted */\n",
       "  border: var(--sklearn-color-unfitted-level-1) 1pt solid;\n",
       "  color: var(--sklearn-color-unfitted-level-1);\n",
       "}\n",
       "\n",
       ".sk-estimator-doc-link.fitted,\n",
       "a:link.sk-estimator-doc-link.fitted,\n",
       "a:visited.sk-estimator-doc-link.fitted {\n",
       "  /* fitted */\n",
       "  border: var(--sklearn-color-fitted-level-1) 1pt solid;\n",
       "  color: var(--sklearn-color-fitted-level-1);\n",
       "}\n",
       "\n",
       "/* On hover */\n",
       "div.sk-estimator:hover .sk-estimator-doc-link:hover,\n",
       ".sk-estimator-doc-link:hover,\n",
       "div.sk-label-container:hover .sk-estimator-doc-link:hover,\n",
       ".sk-estimator-doc-link:hover {\n",
       "  /* unfitted */\n",
       "  background-color: var(--sklearn-color-unfitted-level-3);\n",
       "  color: var(--sklearn-color-background);\n",
       "  text-decoration: none;\n",
       "}\n",
       "\n",
       "div.sk-estimator.fitted:hover .sk-estimator-doc-link.fitted:hover,\n",
       ".sk-estimator-doc-link.fitted:hover,\n",
       "div.sk-label-container:hover .sk-estimator-doc-link.fitted:hover,\n",
       ".sk-estimator-doc-link.fitted:hover {\n",
       "  /* fitted */\n",
       "  background-color: var(--sklearn-color-fitted-level-3);\n",
       "  color: var(--sklearn-color-background);\n",
       "  text-decoration: none;\n",
       "}\n",
       "\n",
       "/* Span, style for the box shown on hovering the info icon */\n",
       ".sk-estimator-doc-link span {\n",
       "  display: none;\n",
       "  z-index: 9999;\n",
       "  position: relative;\n",
       "  font-weight: normal;\n",
       "  right: .2ex;\n",
       "  padding: .5ex;\n",
       "  margin: .5ex;\n",
       "  width: min-content;\n",
       "  min-width: 20ex;\n",
       "  max-width: 50ex;\n",
       "  color: var(--sklearn-color-text);\n",
       "  box-shadow: 2pt 2pt 4pt #999;\n",
       "  /* unfitted */\n",
       "  background: var(--sklearn-color-unfitted-level-0);\n",
       "  border: .5pt solid var(--sklearn-color-unfitted-level-3);\n",
       "}\n",
       "\n",
       ".sk-estimator-doc-link.fitted span {\n",
       "  /* fitted */\n",
       "  background: var(--sklearn-color-fitted-level-0);\n",
       "  border: var(--sklearn-color-fitted-level-3);\n",
       "}\n",
       "\n",
       ".sk-estimator-doc-link:hover span {\n",
       "  display: block;\n",
       "}\n",
       "\n",
       "/* \"?\"-specific style due to the `<a>` HTML tag */\n",
       "\n",
       "#sk-container-id-1 a.estimator_doc_link {\n",
       "  float: right;\n",
       "  font-size: 1rem;\n",
       "  line-height: 1em;\n",
       "  font-family: monospace;\n",
       "  background-color: var(--sklearn-color-background);\n",
       "  border-radius: 1rem;\n",
       "  height: 1rem;\n",
       "  width: 1rem;\n",
       "  text-decoration: none;\n",
       "  /* unfitted */\n",
       "  color: var(--sklearn-color-unfitted-level-1);\n",
       "  border: var(--sklearn-color-unfitted-level-1) 1pt solid;\n",
       "}\n",
       "\n",
       "#sk-container-id-1 a.estimator_doc_link.fitted {\n",
       "  /* fitted */\n",
       "  border: var(--sklearn-color-fitted-level-1) 1pt solid;\n",
       "  color: var(--sklearn-color-fitted-level-1);\n",
       "}\n",
       "\n",
       "/* On hover */\n",
       "#sk-container-id-1 a.estimator_doc_link:hover {\n",
       "  /* unfitted */\n",
       "  background-color: var(--sklearn-color-unfitted-level-3);\n",
       "  color: var(--sklearn-color-background);\n",
       "  text-decoration: none;\n",
       "}\n",
       "\n",
       "#sk-container-id-1 a.estimator_doc_link.fitted:hover {\n",
       "  /* fitted */\n",
       "  background-color: var(--sklearn-color-fitted-level-3);\n",
       "}\n",
       "</style><div id=\"sk-container-id-1\" class=\"sk-top-container\"><div class=\"sk-text-repr-fallback\"><pre>KNeighborsClassifier()</pre><b>In a Jupyter environment, please rerun this cell to show the HTML representation or trust the notebook. <br />On GitHub, the HTML representation is unable to render, please try loading this page with nbviewer.org.</b></div><div class=\"sk-container\" hidden><div class=\"sk-item\"><div class=\"sk-estimator fitted sk-toggleable\"><input class=\"sk-toggleable__control sk-hidden--visually\" id=\"sk-estimator-id-1\" type=\"checkbox\" checked><label for=\"sk-estimator-id-1\" class=\"sk-toggleable__label fitted sk-toggleable__label-arrow\"><div><div>KNeighborsClassifier</div></div><div><a class=\"sk-estimator-doc-link fitted\" rel=\"noreferrer\" target=\"_blank\" href=\"https://scikit-learn.org/1.6/modules/generated/sklearn.neighbors.KNeighborsClassifier.html\">?<span>Documentation for KNeighborsClassifier</span></a><span class=\"sk-estimator-doc-link fitted\">i<span>Fitted</span></span></div></label><div class=\"sk-toggleable__content fitted\"><pre>KNeighborsClassifier()</pre></div> </div></div></div></div>"
      ],
      "text/plain": [
       "KNeighborsClassifier()"
      ]
     },
     "execution_count": 47,
     "metadata": {},
     "output_type": "execute_result"
    }
   ],
   "source": [
    "from sklearn.neighbors import KNeighborsClassifier\n",
    "\n",
    "# Check the number of available samples\n",
    "n_samples = X_train.shape[0]\n",
    "\n",
    "# Set neighbors <= n_samples\n",
    "n_neighbors = min(5, n_samples)  # or any value <= n_samples\n",
    "\n",
    "model = KNeighborsClassifier(n_neighbors=n_neighbors)\n",
    "model.fit(X_train, y_train)\n"
   ]
  },
  {
   "cell_type": "code",
   "execution_count": 48,
   "id": "3085475b-cb83-40da-a109-8e38fdbc5171",
   "metadata": {},
   "outputs": [],
   "source": [
    "\n",
    "if len(X_train) >= 2:\n",
    "    knn = KNeighborsClassifier(n_neighbors=2)\n",
    "    knn.fit(X_train, y_train)\n",
    "    knn.predict(X_test)\n",
    "else:\n",
    "    print(\"Not enough samples to run KNN with n_neighbors=2\")\n"
   ]
  },
  {
   "cell_type": "code",
   "execution_count": 49,
   "id": "ab394f6c-a3d6-4c57-8aa5-66fe45b210fa",
   "metadata": {},
   "outputs": [
    {
     "name": "stdout",
     "output_type": "stream",
     "text": [
      "Samples available: 157\n"
     ]
    }
   ],
   "source": [
    "print(f\"Samples available: {len(X_train)}\")\n"
   ]
  },
  {
   "cell_type": "code",
   "execution_count": 50,
   "id": "f233436e-597b-4a29-aeea-c76c99efd35f",
   "metadata": {},
   "outputs": [
    {
     "name": "stdout",
     "output_type": "stream",
     "text": [
      "places_\n",
      "5    89\n",
      "2    37\n",
      "6    20\n",
      "1    16\n",
      "4    14\n",
      "3    11\n",
      "8     5\n",
      "9     4\n",
      "7     1\n",
      "Name: count, dtype: int64\n"
     ]
    }
   ],
   "source": [
    "import pandas as pd\n",
    "from sklearn.model_selection import train_test_split\n",
    "from sklearn.ensemble import RandomForestClassifier\n",
    "from sklearn.metrics import classification_report\n",
    "from sklearn.compose import ColumnTransformer\n",
    "from sklearn.preprocessing import OneHotEncoder\n",
    "from imblearn.over_sampling import SMOTE\n",
    "\n",
    "# Step 1: Make sure 'budget_range' exists\n",
    "assert 'budget_range' in resp.columns\n",
    "\n",
    "# Step 2: Clean target labels\n",
    "\n",
    "\n",
    "# Step 3: Feature and label selection\n",
    "X = resp[['hunger_level_', 'frequent_meal_type_', 'budget_range', 'prefer_drinks_', 'prefer_food_type_']]\n",
    "y = resp['places_']\n",
    "print(y.value_counts())"
   ]
  },
  {
   "cell_type": "code",
   "execution_count": 51,
   "id": "98832835-7851-4197-8b11-c2ca29d9139a",
   "metadata": {},
   "outputs": [
    {
     "name": "stdout",
     "output_type": "stream",
     "text": [
      "              precision    recall  f1-score   support\n",
      "\n",
      "           1       0.78      0.78      0.78        18\n",
      "           2       0.67      0.71      0.69        17\n",
      "           3       1.00      0.94      0.97        18\n",
      "           4       1.00      0.89      0.94        18\n",
      "           5       0.62      0.44      0.52        18\n",
      "           6       0.93      0.78      0.85        18\n",
      "           8       0.86      1.00      0.92        18\n",
      "           9       0.72      1.00      0.84        18\n",
      "\n",
      "    accuracy                           0.82       143\n",
      "   macro avg       0.82      0.82      0.81       143\n",
      "weighted avg       0.82      0.82      0.81       143\n",
      "\n"
     ]
    }
   ],
   "source": [
    "# Step 4: Filter out rare classes\n",
    "class_counts = y.value_counts()\n",
    "valid_classes = class_counts[class_counts >= 2].index\n",
    "mask = y.isin(valid_classes)\n",
    "X = X[mask]\n",
    "y = y[mask]\n",
    "\n",
    "\n",
    "# Step 5: Define categorical and numeric columns\n",
    "categorical_cols = ['budget_range']\n",
    "numeric_cols = ['hunger_level_', 'frequent_meal_type_', 'prefer_drinks_', 'prefer_food_type_']\n",
    "\n",
    "# Step 6: One-hot encode categorical features\n",
    "encoder = ColumnTransformer(\n",
    "    transformers=[\n",
    "        ('cat', OneHotEncoder(handle_unknown='ignore'), categorical_cols)\n",
    "    ],\n",
    "    remainder='passthrough'  # Keep numeric features as-is\n",
    ")\n",
    "\n",
    "X_encoded = encoder.fit_transform(X)\n",
    "\n",
    "# Step 7: Apply SMOTE\n",
    "sm = SMOTE(random_state=42, k_neighbors=1)\n",
    "X_resampled, y_resampled = sm.fit_resample(X_encoded, y)\n",
    "\n",
    "# Step 8: Train/test split\n",
    "X_train, X_test, y_train, y_test = train_test_split(\n",
    "    X_resampled, y_resampled, test_size=0.2, stratify=y_resampled, random_state=42\n",
    ")\n",
    "\n",
    "# Step 9: Train Random Forest\n",
    "rf = RandomForestClassifier(n_estimators=500, random_state=42)\n",
    "rf.fit(X_train, y_train)\n",
    "\n",
    "# Step 10: Evaluate\n",
    "y_pred = rf.predict(X_test)\n",
    "print(classification_report(y_test, y_pred))"
   ]
  },
  {
   "cell_type": "code",
   "execution_count": 52,
   "id": "b8fff7c1-db9a-4baf-8846-d1a79e72fdfc",
   "metadata": {},
   "outputs": [
    {
     "name": "stdout",
     "output_type": "stream",
     "text": [
      "1.6.1\n"
     ]
    }
   ],
   "source": [
    "import sklearn\n",
    "print(sklearn.__version__)\n"
   ]
  },
  {
   "cell_type": "code",
   "execution_count": 53,
   "id": "5b4ccfa0-1373-4db2-86f2-df7dd4511865",
   "metadata": {},
   "outputs": [],
   "source": [
    "import cloudpickle\n",
    "\n",
    "with open(\"encoder_oncampus.pkl\", \"wb\") as f:\n",
    "    cloudpickle.dump(encoder, f)\n",
    "    "
   ]
  },
  {
   "cell_type": "code",
   "execution_count": 54,
   "id": "567fa7d8-7c21-47bc-8525-94b4c9a7d692",
   "metadata": {},
   "outputs": [],
   "source": [
    "with open(\"model_oncampus.pkl\", \"wb\") as f:\n",
    "    cloudpickle.dump(rf, f)\n"
   ]
  }
 ],
 "metadata": {
  "colab": {
   "provenance": []
  },
  "kernelspec": {
   "display_name": "Python 3 (ipykernel)",
   "language": "python",
   "name": "python3"
  },
  "language_info": {
   "codemirror_mode": {
    "name": "ipython",
    "version": 3
   },
   "file_extension": ".py",
   "mimetype": "text/x-python",
   "name": "python",
   "nbconvert_exporter": "python",
   "pygments_lexer": "ipython3",
   "version": "3.11.7"
  }
 },
 "nbformat": 4,
 "nbformat_minor": 5
}
